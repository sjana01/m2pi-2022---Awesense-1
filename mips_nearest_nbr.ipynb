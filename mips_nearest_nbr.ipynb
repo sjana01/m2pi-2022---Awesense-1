{
 "cells": [
  {
   "cell_type": "code",
   "execution_count": 1,
   "metadata": {},
   "outputs": [],
   "source": [
    "import numpy as np\n",
    "import time \n",
    "from sklearn.neighbors import NearestNeighbors\n",
    "import math"
   ]
  },
  {
   "cell_type": "markdown",
   "metadata": {},
   "source": [
    "Given any available load (`avl_load`) and list of charger wattages (`chargers`), we want to give an optimal distribution of the number of chargers of each type. We will be implimenting a `Maximum Inner Product Search` using `Nearest Neighbor` search algorithms.\n",
    "\n",
    "- **Constraint 1** : *must have atleast `min_chargers` number of chargers of each type and the total number of chargers must not be more than `max_chargers`*."
   ]
  },
  {
   "cell_type": "code",
   "execution_count": 16,
   "metadata": {},
   "outputs": [],
   "source": [
    "def transform(vecs):\n",
    "    maxnorm = max([np.linalg.norm(v) for v in vecs])\n",
    "    new_vecs = []\n",
    "    for v in vecs:\n",
    "        new_vecs.append(np.insert(v, 0, np.sqrt(maxnorm**2-np.linalg.norm(v)**2)))\n",
    "    return new_vecs\n",
    "\n",
    "def mips_naive(q, vecs):\n",
    "    mip = -1e10             # initial max mip. as we know our vectors are positive we can set it to zero for our case \n",
    "    idx = -1\n",
    "    for i, v in enumerate(vecs):\n",
    "        if np.dot(q, v) > mip:\n",
    "            mip = np.dot(q, v)\n",
    "            idx = i\n",
    "    return idx, mip\n",
    "\n",
    "def charger_dist(chargers, avl_load, min_chargers=1, max_chargers=100):\n",
    "    low = min_chargers\n",
    "    high = [math.ceil(avl_load/p) for p in chargers]\n",
    "    if sum(high)>max_chargers:\n",
    "        high = max_chargers\n",
    "\n",
    "    num = math.prod(high)\n",
    "\n",
    "    vecs = np.random.randint(low, high, (num,3))   # random initialization\n",
    "    vecs_prod = list(np.array([np.array(chargers).dot(v) for v in list(vecs)]))\n",
    "    vecs_indices = [i for i in range(len(vecs_prod)) if vecs_prod[i] <=avl_load]\n",
    "    vecs_list = [vecs[i] for i in vecs_indices]\n",
    "\n",
    "    maxnorm = max([np.linalg.norm(v) for v in vecs_list])\n",
    "    vecs_trans = transform(vecs_list)\n",
    "\n",
    "    q = np.array(chargers)\n",
    "    q_trans = np.insert(q, 0, 0)\n",
    "\n",
    "    X = np.array(vecs_trans)\n",
    "    nbrs = NearestNeighbors(n_neighbors=1, algorithm='kd_tree').fit(X)        # we can set the nearest neighbours to any number we want if we want a few closest answers\n",
    "\n",
    "    distances, indices = nbrs.kneighbors(np.array([q_trans]))\n",
    "\n",
    "    return list(map(lambda j: vecs_list[j], indices[0]))"
   ]
  },
  {
   "cell_type": "code",
   "execution_count": 17,
   "metadata": {},
   "outputs": [
    {
     "data": {
      "text/plain": [
       "[array([2, 6, 1])]"
      ]
     },
     "execution_count": 17,
     "metadata": {},
     "output_type": "execute_result"
    }
   ],
   "source": [
    "avl_load = 230\n",
    "chargers= [7, 23, 72]\n",
    "charger_dist(chargers, avl_load)"
   ]
  }
 ],
 "metadata": {
  "kernelspec": {
   "display_name": "Python 3.9.12 ('awesense')",
   "language": "python",
   "name": "python3"
  },
  "language_info": {
   "codemirror_mode": {
    "name": "ipython",
    "version": 3
   },
   "file_extension": ".py",
   "mimetype": "text/x-python",
   "name": "python",
   "nbconvert_exporter": "python",
   "pygments_lexer": "ipython3",
   "version": "3.9.12"
  },
  "orig_nbformat": 4,
  "vscode": {
   "interpreter": {
    "hash": "0421e16cec96920e45b4d001d00ddf7e05f11765790c8113596db87ac33d9a52"
   }
  }
 },
 "nbformat": 4,
 "nbformat_minor": 2
}
